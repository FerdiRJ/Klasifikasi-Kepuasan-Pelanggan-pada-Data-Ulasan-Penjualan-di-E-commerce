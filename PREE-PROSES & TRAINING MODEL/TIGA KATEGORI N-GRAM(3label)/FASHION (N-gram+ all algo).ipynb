{
 "cells": [
  {
   "cell_type": "code",
   "execution_count": 2,
   "id": "fd32bf59",
   "metadata": {},
   "outputs": [],
   "source": [
    "from sklearn.feature_extraction.text import CountVectorizer\n",
    "import pandas as pd\n",
    "import numpy as np"
   ]
  },
  {
   "cell_type": "code",
   "execution_count": 3,
   "id": "a17a5e22",
   "metadata": {
    "scrolled": false
   },
   "outputs": [
    {
     "data": {
      "text/html": [
       "<div>\n",
       "<style scoped>\n",
       "    .dataframe tbody tr th:only-of-type {\n",
       "        vertical-align: middle;\n",
       "    }\n",
       "\n",
       "    .dataframe tbody tr th {\n",
       "        vertical-align: top;\n",
       "    }\n",
       "\n",
       "    .dataframe thead th {\n",
       "        text-align: right;\n",
       "    }\n",
       "</style>\n",
       "<table border=\"1\" class=\"dataframe\">\n",
       "  <thead>\n",
       "    <tr style=\"text-align: right;\">\n",
       "      <th></th>\n",
       "      <th>ulasan</th>\n",
       "      <th>rating</th>\n",
       "      <th>kategori</th>\n",
       "      <th>nama_produk</th>\n",
       "      <th>ulasan_tokenize</th>\n",
       "      <th>ulasan_normalized</th>\n",
       "      <th>ulasan_stop_removed</th>\n",
       "      <th>ulasan_Stemmed</th>\n",
       "      <th>ulasan_clean</th>\n",
       "      <th>label</th>\n",
       "    </tr>\n",
       "  </thead>\n",
       "  <tbody>\n",
       "    <tr>\n",
       "      <th>0</th>\n",
       "      <td>terlalu kecil ukurannya</td>\n",
       "      <td>5</td>\n",
       "      <td>fashion</td>\n",
       "      <td>Sepatu Sneakers Adidas Swift Run Harian Runnin...</td>\n",
       "      <td>['terlalu', 'kecil', 'ukurannya']</td>\n",
       "      <td>['terlalu', 'kecil', 'ukurannya']</td>\n",
       "      <td>['ukurannya']</td>\n",
       "      <td>['ukur']</td>\n",
       "      <td>ukur</td>\n",
       "      <td>2</td>\n",
       "    </tr>\n",
       "    <tr>\n",
       "      <th>1</th>\n",
       "      <td>terimakasih gan barang josss gandosss sesuai m...</td>\n",
       "      <td>5</td>\n",
       "      <td>fashion</td>\n",
       "      <td>Sepatu Sneakers Adidas Swift Run Harian Runnin...</td>\n",
       "      <td>['terimakasih', 'gan', 'barang', 'josss', 'gan...</td>\n",
       "      <td>['terima kasih', 'juragan', 'barang', 'bagus',...</td>\n",
       "      <td>['terima kasih', 'juragan', 'barang', 'bagus',...</td>\n",
       "      <td>['terima kasih', 'juragan', 'barang', 'bagus',...</td>\n",
       "      <td>terima kasih juragan barang bagus gandosss ses...</td>\n",
       "      <td>2</td>\n",
       "    </tr>\n",
       "    <tr>\n",
       "      <th>2</th>\n",
       "      <td>produk bagus tp ternyata bagian atas dijahit g...</td>\n",
       "      <td>4</td>\n",
       "      <td>fashion</td>\n",
       "      <td>Sepatu Sneakers Adidas Swift Run Harian Runnin...</td>\n",
       "      <td>['produk', 'bagus', 'tp', 'ternyata', 'bagian'...</td>\n",
       "      <td>['produk', 'bagus', 'tetapi', 'ternyata', 'bag...</td>\n",
       "      <td>['produk', 'bagus', 'dijahit', 'elastis', 'mas...</td>\n",
       "      <td>['produk', 'bagus', 'jahit', 'elastis', 'masuk...</td>\n",
       "      <td>produk bagus jahit elastis masuk kaki size</td>\n",
       "      <td>2</td>\n",
       "    </tr>\n",
       "    <tr>\n",
       "      <th>3</th>\n",
       "      <td>sepatunya bagus tidak ada cacat tapi ukuran te...</td>\n",
       "      <td>4</td>\n",
       "      <td>fashion</td>\n",
       "      <td>Sepatu Sneakers Adidas Swift Run Harian Runnin...</td>\n",
       "      <td>['sepatunya', 'bagus', 'tidak', 'ada', 'cacat'...</td>\n",
       "      <td>['sepatunya', 'bagus', 'tidak', 'ada', 'cacat'...</td>\n",
       "      <td>['sepatunya', 'bagus', 'cacat', 'ukuran', 'ses...</td>\n",
       "      <td>['sepatu', 'bagus', 'cacat', 'ukur', 'sesak', ...</td>\n",
       "      <td>sepatu bagus cacat ukur sesak ukur kaki</td>\n",
       "      <td>2</td>\n",
       "    </tr>\n",
       "    <tr>\n",
       "      <th>4</th>\n",
       "      <td>sepatu sesuai dengan harganya</td>\n",
       "      <td>3</td>\n",
       "      <td>fashion</td>\n",
       "      <td>Sepatu Sneakers Adidas Swift Run Harian Runnin...</td>\n",
       "      <td>['sepatu', 'sesuai', 'dengan', 'harganya']</td>\n",
       "      <td>['sepatu', 'sesuai', 'dengan', 'harganya']</td>\n",
       "      <td>['sepatu', 'sesuai', 'harganya']</td>\n",
       "      <td>['sepatu', 'sesuai', 'harga']</td>\n",
       "      <td>sepatu sesuai harga</td>\n",
       "      <td>1</td>\n",
       "    </tr>\n",
       "    <tr>\n",
       "      <th>...</th>\n",
       "      <td>...</td>\n",
       "      <td>...</td>\n",
       "      <td>...</td>\n",
       "      <td>...</td>\n",
       "      <td>...</td>\n",
       "      <td>...</td>\n",
       "      <td>...</td>\n",
       "      <td>...</td>\n",
       "      <td>...</td>\n",
       "      <td>...</td>\n",
       "    </tr>\n",
       "    <tr>\n",
       "      <th>10008</th>\n",
       "      <td>biar bintang yang bicara</td>\n",
       "      <td>5</td>\n",
       "      <td>fashion</td>\n",
       "      <td>Jogger Pants Nike FC</td>\n",
       "      <td>['biar', 'bintang', 'yang', 'bicara']</td>\n",
       "      <td>['biar', 'bintang', 'yang', 'bicara']</td>\n",
       "      <td>['biar', 'bintang', 'bicara']</td>\n",
       "      <td>['biar', 'bintang', 'bicara']</td>\n",
       "      <td>biar bintang bicara</td>\n",
       "      <td>2</td>\n",
       "    </tr>\n",
       "    <tr>\n",
       "      <th>10009</th>\n",
       "      <td>barangnya sudah sampai gan thanks</td>\n",
       "      <td>5</td>\n",
       "      <td>fashion</td>\n",
       "      <td>Jogger Pants Nike FC</td>\n",
       "      <td>['barangnya', 'sudah', 'sampai', 'gan', 'thanks']</td>\n",
       "      <td>['barangnya', 'sudah', 'sampai', 'juragan', 't...</td>\n",
       "      <td>['barangnya', 'juragan', 'terima kasih']</td>\n",
       "      <td>['barang', 'juragan', 'terima kasih']</td>\n",
       "      <td>barang juragan terima kasih</td>\n",
       "      <td>2</td>\n",
       "    </tr>\n",
       "    <tr>\n",
       "      <th>10010</th>\n",
       "      <td>barang sudah sampe terima kasih mba</td>\n",
       "      <td>4</td>\n",
       "      <td>fashion</td>\n",
       "      <td>Jogger Pants Nike FC</td>\n",
       "      <td>['barang', 'sudah', 'sampe', 'terima', 'kasih'...</td>\n",
       "      <td>['barang', 'sudah', 'sampai', 'terima', 'kasih...</td>\n",
       "      <td>['barang', 'terima', 'kasih', 'mbak']</td>\n",
       "      <td>['barang', 'terima', 'kasih', 'mbak']</td>\n",
       "      <td>barang terima kasih mbak</td>\n",
       "      <td>2</td>\n",
       "    </tr>\n",
       "    <tr>\n",
       "      <th>10011</th>\n",
       "      <td>packing rapiii bangeett barang ok smua thanks</td>\n",
       "      <td>5</td>\n",
       "      <td>fashion</td>\n",
       "      <td>Jogger Pants Nike FC</td>\n",
       "      <td>['packing', 'rapiii', 'bangeett', 'barang', 'o...</td>\n",
       "      <td>['packing', 'rapiii', 'banget', 'barang', 'oke...</td>\n",
       "      <td>['packing', 'rapiii', 'banget', 'barang', 'oke...</td>\n",
       "      <td>['packing', 'rapiii', 'banget', 'barang', 'oke...</td>\n",
       "      <td>packing rapiii banget barang oke terima kasih</td>\n",
       "      <td>2</td>\n",
       "    </tr>\n",
       "    <tr>\n",
       "      <th>10012</th>\n",
       "      <td>mungkin order lagi gan</td>\n",
       "      <td>5</td>\n",
       "      <td>fashion</td>\n",
       "      <td>Jogger Pants Nike FC</td>\n",
       "      <td>['mungkin', 'order', 'lagi', 'gan']</td>\n",
       "      <td>['mungkin', 'order', 'lagi', 'juragan']</td>\n",
       "      <td>['order', 'juragan']</td>\n",
       "      <td>['order', 'juragan']</td>\n",
       "      <td>order juragan</td>\n",
       "      <td>2</td>\n",
       "    </tr>\n",
       "  </tbody>\n",
       "</table>\n",
       "<p>10013 rows × 10 columns</p>\n",
       "</div>"
      ],
      "text/plain": [
       "                                                  ulasan  rating kategori  \\\n",
       "0                                terlalu kecil ukurannya       5  fashion   \n",
       "1      terimakasih gan barang josss gandosss sesuai m...       5  fashion   \n",
       "2      produk bagus tp ternyata bagian atas dijahit g...       4  fashion   \n",
       "3      sepatunya bagus tidak ada cacat tapi ukuran te...       4  fashion   \n",
       "4                          sepatu sesuai dengan harganya       3  fashion   \n",
       "...                                                  ...     ...      ...   \n",
       "10008                           biar bintang yang bicara       5  fashion   \n",
       "10009                  barangnya sudah sampai gan thanks       5  fashion   \n",
       "10010               barang sudah sampe terima kasih mba        4  fashion   \n",
       "10011      packing rapiii bangeett barang ok smua thanks       5  fashion   \n",
       "10012                             mungkin order lagi gan       5  fashion   \n",
       "\n",
       "                                             nama_produk  \\\n",
       "0      Sepatu Sneakers Adidas Swift Run Harian Runnin...   \n",
       "1      Sepatu Sneakers Adidas Swift Run Harian Runnin...   \n",
       "2      Sepatu Sneakers Adidas Swift Run Harian Runnin...   \n",
       "3      Sepatu Sneakers Adidas Swift Run Harian Runnin...   \n",
       "4      Sepatu Sneakers Adidas Swift Run Harian Runnin...   \n",
       "...                                                  ...   \n",
       "10008                               Jogger Pants Nike FC   \n",
       "10009                               Jogger Pants Nike FC   \n",
       "10010                               Jogger Pants Nike FC   \n",
       "10011                               Jogger Pants Nike FC   \n",
       "10012                               Jogger Pants Nike FC   \n",
       "\n",
       "                                         ulasan_tokenize  \\\n",
       "0                      ['terlalu', 'kecil', 'ukurannya']   \n",
       "1      ['terimakasih', 'gan', 'barang', 'josss', 'gan...   \n",
       "2      ['produk', 'bagus', 'tp', 'ternyata', 'bagian'...   \n",
       "3      ['sepatunya', 'bagus', 'tidak', 'ada', 'cacat'...   \n",
       "4             ['sepatu', 'sesuai', 'dengan', 'harganya']   \n",
       "...                                                  ...   \n",
       "10008              ['biar', 'bintang', 'yang', 'bicara']   \n",
       "10009  ['barangnya', 'sudah', 'sampai', 'gan', 'thanks']   \n",
       "10010  ['barang', 'sudah', 'sampe', 'terima', 'kasih'...   \n",
       "10011  ['packing', 'rapiii', 'bangeett', 'barang', 'o...   \n",
       "10012                ['mungkin', 'order', 'lagi', 'gan']   \n",
       "\n",
       "                                       ulasan_normalized  \\\n",
       "0                      ['terlalu', 'kecil', 'ukurannya']   \n",
       "1      ['terima kasih', 'juragan', 'barang', 'bagus',...   \n",
       "2      ['produk', 'bagus', 'tetapi', 'ternyata', 'bag...   \n",
       "3      ['sepatunya', 'bagus', 'tidak', 'ada', 'cacat'...   \n",
       "4             ['sepatu', 'sesuai', 'dengan', 'harganya']   \n",
       "...                                                  ...   \n",
       "10008              ['biar', 'bintang', 'yang', 'bicara']   \n",
       "10009  ['barangnya', 'sudah', 'sampai', 'juragan', 't...   \n",
       "10010  ['barang', 'sudah', 'sampai', 'terima', 'kasih...   \n",
       "10011  ['packing', 'rapiii', 'banget', 'barang', 'oke...   \n",
       "10012            ['mungkin', 'order', 'lagi', 'juragan']   \n",
       "\n",
       "                                     ulasan_stop_removed  \\\n",
       "0                                          ['ukurannya']   \n",
       "1      ['terima kasih', 'juragan', 'barang', 'bagus',...   \n",
       "2      ['produk', 'bagus', 'dijahit', 'elastis', 'mas...   \n",
       "3      ['sepatunya', 'bagus', 'cacat', 'ukuran', 'ses...   \n",
       "4                       ['sepatu', 'sesuai', 'harganya']   \n",
       "...                                                  ...   \n",
       "10008                      ['biar', 'bintang', 'bicara']   \n",
       "10009           ['barangnya', 'juragan', 'terima kasih']   \n",
       "10010              ['barang', 'terima', 'kasih', 'mbak']   \n",
       "10011  ['packing', 'rapiii', 'banget', 'barang', 'oke...   \n",
       "10012                               ['order', 'juragan']   \n",
       "\n",
       "                                          ulasan_Stemmed  \\\n",
       "0                                               ['ukur']   \n",
       "1      ['terima kasih', 'juragan', 'barang', 'bagus',...   \n",
       "2      ['produk', 'bagus', 'jahit', 'elastis', 'masuk...   \n",
       "3      ['sepatu', 'bagus', 'cacat', 'ukur', 'sesak', ...   \n",
       "4                          ['sepatu', 'sesuai', 'harga']   \n",
       "...                                                  ...   \n",
       "10008                      ['biar', 'bintang', 'bicara']   \n",
       "10009              ['barang', 'juragan', 'terima kasih']   \n",
       "10010              ['barang', 'terima', 'kasih', 'mbak']   \n",
       "10011  ['packing', 'rapiii', 'banget', 'barang', 'oke...   \n",
       "10012                               ['order', 'juragan']   \n",
       "\n",
       "                                            ulasan_clean  label  \n",
       "0                                                   ukur      2  \n",
       "1      terima kasih juragan barang bagus gandosss ses...      2  \n",
       "2             produk bagus jahit elastis masuk kaki size      2  \n",
       "3                sepatu bagus cacat ukur sesak ukur kaki      2  \n",
       "4                                    sepatu sesuai harga      1  \n",
       "...                                                  ...    ...  \n",
       "10008                                biar bintang bicara      2  \n",
       "10009                        barang juragan terima kasih      2  \n",
       "10010                           barang terima kasih mbak      2  \n",
       "10011      packing rapiii banget barang oke terima kasih      2  \n",
       "10012                                      order juragan      2  \n",
       "\n",
       "[10013 rows x 10 columns]"
      ]
     },
     "execution_count": 3,
     "metadata": {},
     "output_type": "execute_result"
    }
   ],
   "source": [
    "fsclean = pd.read_csv('fsnewcleanlabel.csv')\n",
    "fsclean"
   ]
  },
  {
   "cell_type": "code",
   "execution_count": 4,
   "id": "7be84985",
   "metadata": {},
   "outputs": [
    {
     "data": {
      "text/plain": [
       "63"
      ]
     },
     "execution_count": 4,
     "metadata": {},
     "output_type": "execute_result"
    }
   ],
   "source": [
    "Ulasan = fsclean['ulasan_clean']\n",
    "Ulasan.isnull().sum()"
   ]
  },
  {
   "cell_type": "code",
   "execution_count": 5,
   "id": "b8289fd0",
   "metadata": {},
   "outputs": [],
   "source": [
    "Ulasan = fsclean.fillna('tidak ada komentar')"
   ]
  },
  {
   "cell_type": "markdown",
   "id": "cb05cb92",
   "metadata": {},
   "source": [
    "# split data "
   ]
  },
  {
   "cell_type": "code",
   "execution_count": 6,
   "id": "d653950d",
   "metadata": {},
   "outputs": [],
   "source": [
    "from sklearn.model_selection import train_test_split\n",
    "\n",
    "X_train, X_test, y_train, y_test = train_test_split(fsclean['ulasan_clean'], fsclean['label'], \n",
    "                                                    test_size=0.3, stratify=fsclean['label'], random_state=30)"
   ]
  },
  {
   "cell_type": "code",
   "execution_count": 7,
   "id": "ed8d8b38",
   "metadata": {},
   "outputs": [
    {
     "name": "stdout",
     "output_type": "stream",
     "text": [
      "NaN in X_train: False\n",
      "NaN in X_test: False\n"
     ]
    }
   ],
   "source": [
    "X_train = X_train.dropna()\n",
    "y_train = y_train[X_train.index]  # Make sure to update labels accordingly\n",
    "\n",
    "X_test = X_test.dropna()\n",
    "y_test = y_test[X_test.index] \n",
    "# Check if there are still NaN values\n",
    "print(\"NaN in X_train:\", X_train.isnull().any())\n",
    "print(\"NaN in X_test:\", X_test.isnull().any())"
   ]
  },
  {
   "cell_type": "markdown",
   "id": "cbb07872",
   "metadata": {},
   "source": [
    "# N-GRAM"
   ]
  },
  {
   "cell_type": "code",
   "execution_count": 8,
   "id": "4a3a770a",
   "metadata": {},
   "outputs": [],
   "source": [
    "vectorizer = CountVectorizer(decode_error='replace', encoding='utf-8', ngram_range=(1, 2))\n",
    "X_train = vectorizer.fit_transform(X_train)\n",
    "X_test = vectorizer.transform(X_test)"
   ]
  },
  {
   "cell_type": "code",
   "execution_count": 9,
   "id": "771ab634",
   "metadata": {},
   "outputs": [
    {
     "name": "stdout",
     "output_type": "stream",
     "text": [
      "Shape after n-gram Count Vectorization:\n",
      "X_train_count.shape: (6964, 19707)\n",
      "X_test_count.shape: (2986, 19707)\n"
     ]
    }
   ],
   "source": [
    "print(\"Shape after n-gram Count Vectorization:\")\n",
    "print(\"X_train_count.shape:\", X_train.shape)\n",
    "print(\"X_test_count.shape:\", X_test.shape)"
   ]
  },
  {
   "cell_type": "markdown",
   "id": "9ee1ec17",
   "metadata": {},
   "source": [
    "# MelakukanPrediksi"
   ]
  },
  {
   "cell_type": "code",
   "execution_count": 25,
   "id": "ff80ba56",
   "metadata": {},
   "outputs": [
    {
     "name": "stdout",
     "output_type": "stream",
     "text": [
      "Random Forest Classification Report:\n",
      "               precision    recall  f1-score   support\n",
      "\n",
      "           0       0.50      0.03      0.06        61\n",
      "           1       0.12      0.02      0.03       129\n",
      "           2       0.94      0.99      0.97      2796\n",
      "\n",
      "    accuracy                           0.93      2986\n",
      "   macro avg       0.52      0.35      0.35      2986\n",
      "weighted avg       0.89      0.93      0.91      2986\n",
      "\n"
     ]
    }
   ],
   "source": [
    "from sklearn.tree import DecisionTreeClassifier\n",
    "from sklearn.ensemble import RandomForestClassifier\n",
    "from sklearn.naive_bayes import MultinomialNB\n",
    "from sklearn.neighbors import KNeighborsClassifier\n",
    "from sklearn.metrics import classification_report\n",
    "from sklearn.svm import SVC\n",
    "\n",
    "# Klasifikasi menggunakan Random Forest\n",
    "rf_classifier = RandomForestClassifier(random_state=42)\n",
    "rf_classifier.fit(X_train, y_train)\n",
    "rf_predictions = rf_classifier.predict(X_test)\n",
    "\n",
    "# Evaluasi hasil klasifikasi Random Forest\n",
    "print(\"Random Forest Classification Report:\\n\", classification_report(y_test, rf_predictions))"
   ]
  },
  {
   "cell_type": "code",
   "execution_count": 18,
   "id": "fb2d8817",
   "metadata": {},
   "outputs": [
    {
     "name": "stdout",
     "output_type": "stream",
     "text": [
      "SVM Classification Report:\n",
      "              precision    recall  f1-score   support\n",
      "\n",
      "           0       1.00      0.03      0.06        61\n",
      "           1       0.00      0.00      0.00       129\n",
      "           2       0.94      1.00      0.97      2796\n",
      "\n",
      "    accuracy                           0.94      2986\n",
      "   macro avg       0.65      0.34      0.34      2986\n",
      "weighted avg       0.90      0.94      0.91      2986\n",
      "\n"
     ]
    },
    {
     "name": "stderr",
     "output_type": "stream",
     "text": [
      "/Users/ferdirj/anaconda3/lib/python3.10/site-packages/sklearn/metrics/_classification.py:1344: UndefinedMetricWarning: Precision and F-score are ill-defined and being set to 0.0 in labels with no predicted samples. Use `zero_division` parameter to control this behavior.\n",
      "  _warn_prf(average, modifier, msg_start, len(result))\n",
      "/Users/ferdirj/anaconda3/lib/python3.10/site-packages/sklearn/metrics/_classification.py:1344: UndefinedMetricWarning: Precision and F-score are ill-defined and being set to 0.0 in labels with no predicted samples. Use `zero_division` parameter to control this behavior.\n",
      "  _warn_prf(average, modifier, msg_start, len(result))\n",
      "/Users/ferdirj/anaconda3/lib/python3.10/site-packages/sklearn/metrics/_classification.py:1344: UndefinedMetricWarning: Precision and F-score are ill-defined and being set to 0.0 in labels with no predicted samples. Use `zero_division` parameter to control this behavior.\n",
      "  _warn_prf(average, modifier, msg_start, len(result))\n"
     ]
    }
   ],
   "source": [
    "# SVM\n",
    "svm_classifier = SVC()\n",
    "svm_classifier.fit(X_train, y_train)\n",
    "y_pred_svm = svm_classifier.predict(X_test)\n",
    "print(\"SVM Classification Report:\")\n",
    "print(classification_report(y_test, y_pred_svm))"
   ]
  },
  {
   "cell_type": "code",
   "execution_count": 19,
   "id": "970ffd7b",
   "metadata": {},
   "outputs": [
    {
     "name": "stdout",
     "output_type": "stream",
     "text": [
      "Decision Tree Classification Report:\n",
      "              precision    recall  f1-score   support\n",
      "\n",
      "           0       0.26      0.15      0.19        61\n",
      "           1       0.08      0.06      0.07       129\n",
      "           2       0.94      0.96      0.95      2796\n",
      "\n",
      "    accuracy                           0.91      2986\n",
      "   macro avg       0.43      0.39      0.40      2986\n",
      "weighted avg       0.89      0.91      0.90      2986\n",
      "\n"
     ]
    }
   ],
   "source": [
    "# Decision Tree\n",
    "dt_classifier = DecisionTreeClassifier()\n",
    "dt_classifier.fit(X_train, y_train)\n",
    "y_pred_dt = dt_classifier.predict(X_test)\n",
    "print(\"Decision Tree Classification Report:\")\n",
    "print(classification_report(y_test, y_pred_dt))\n"
   ]
  },
  {
   "cell_type": "code",
   "execution_count": 20,
   "id": "ff8f4f76",
   "metadata": {},
   "outputs": [
    {
     "name": "stdout",
     "output_type": "stream",
     "text": [
      "Classification Report:\n",
      "               precision    recall  f1-score   support\n",
      "\n",
      "           0       0.67      0.03      0.06        61\n",
      "           1       0.00      0.00      0.00       129\n",
      "           2       0.94      1.00      0.97      2796\n",
      "\n",
      "    accuracy                           0.94      2986\n",
      "   macro avg       0.53      0.34      0.34      2986\n",
      "weighted avg       0.89      0.94      0.91      2986\n",
      "\n"
     ]
    }
   ],
   "source": [
    "# Klasifikasi menggunakan Naive Bayes\n",
    "nb_classifier = MultinomialNB()\n",
    "nb_classifier.fit(X_train, y_train)\n",
    "nb_predictions = nb_classifier.predict(X_test)\n",
    "\n",
    "# Evaluasi hasil klasifikasi Naive Bayes\n",
    "print(\"Classification Report:\\n\", classification_report(y_test, nb_predictions))"
   ]
  },
  {
   "cell_type": "code",
   "execution_count": 21,
   "id": "90859172",
   "metadata": {},
   "outputs": [
    {
     "name": "stdout",
     "output_type": "stream",
     "text": [
      "KNN Classification Report:\n",
      "              precision    recall  f1-score   support\n",
      "\n",
      "           0       1.00      0.02      0.03        61\n",
      "           1       0.55      0.05      0.09       129\n",
      "           2       0.94      1.00      0.97      2796\n",
      "\n",
      "    accuracy                           0.94      2986\n",
      "   macro avg       0.83      0.35      0.36      2986\n",
      "weighted avg       0.92      0.94      0.91      2986\n",
      "\n"
     ]
    }
   ],
   "source": [
    "# KNN\n",
    "knn_classifier = KNeighborsClassifier()\n",
    "knn_classifier.fit(X_train, y_train)\n",
    "y_pred_knn = knn_classifier.predict(X_test)\n",
    "print(\"KNN Classification Report:\")\n",
    "print(classification_report(y_test, y_pred_knn))"
   ]
  }
 ],
 "metadata": {
  "kernelspec": {
   "display_name": "Python 3 (ipykernel)",
   "language": "python",
   "name": "python3"
  },
  "language_info": {
   "codemirror_mode": {
    "name": "ipython",
    "version": 3
   },
   "file_extension": ".py",
   "mimetype": "text/x-python",
   "name": "python",
   "nbconvert_exporter": "python",
   "pygments_lexer": "ipython3",
   "version": "3.10.9"
  }
 },
 "nbformat": 4,
 "nbformat_minor": 5
}
