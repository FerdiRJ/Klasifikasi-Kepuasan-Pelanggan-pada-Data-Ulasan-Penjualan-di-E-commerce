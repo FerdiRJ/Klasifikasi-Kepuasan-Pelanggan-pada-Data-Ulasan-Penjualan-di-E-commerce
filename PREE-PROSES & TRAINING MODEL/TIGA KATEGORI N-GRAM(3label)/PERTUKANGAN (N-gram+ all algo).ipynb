{
 "cells": [
  {
   "cell_type": "code",
   "execution_count": 1,
   "id": "fd32bf59",
   "metadata": {},
   "outputs": [],
   "source": [
    "from sklearn.feature_extraction.text import CountVectorizer\n",
    "import pandas as pd\n",
    "import numpy as np"
   ]
  },
  {
   "cell_type": "code",
   "execution_count": 2,
   "id": "a17a5e22",
   "metadata": {
    "scrolled": false
   },
   "outputs": [
    {
     "data": {
      "text/html": [
       "<div>\n",
       "<style scoped>\n",
       "    .dataframe tbody tr th:only-of-type {\n",
       "        vertical-align: middle;\n",
       "    }\n",
       "\n",
       "    .dataframe tbody tr th {\n",
       "        vertical-align: top;\n",
       "    }\n",
       "\n",
       "    .dataframe thead th {\n",
       "        text-align: right;\n",
       "    }\n",
       "</style>\n",
       "<table border=\"1\" class=\"dataframe\">\n",
       "  <thead>\n",
       "    <tr style=\"text-align: right;\">\n",
       "      <th></th>\n",
       "      <th>ulasan</th>\n",
       "      <th>rating</th>\n",
       "      <th>kategori</th>\n",
       "      <th>nama_produk</th>\n",
       "      <th>ulasan_tokenize</th>\n",
       "      <th>ulasan_normalized</th>\n",
       "      <th>ulasan_stop_removed</th>\n",
       "      <th>ulasan_Stemmed</th>\n",
       "      <th>ulasan_clean</th>\n",
       "      <th>label</th>\n",
       "    </tr>\n",
       "  </thead>\n",
       "  <tbody>\n",
       "    <tr>\n",
       "      <th>0</th>\n",
       "      <td>barang sesuai pesanan dan cepat sampai</td>\n",
       "      <td>5</td>\n",
       "      <td>pertukangan</td>\n",
       "      <td>Staples Dekorasi Staples Kayu + Refill 8mm - S...</td>\n",
       "      <td>['barang', 'sesuai', 'pesanan', 'dan', 'cepat'...</td>\n",
       "      <td>['barang', 'sesuai', 'pesanan', 'dan', 'cepat'...</td>\n",
       "      <td>['barang', 'sesuai', 'pesanan', 'cepat']</td>\n",
       "      <td>['barang', 'sesuai', 'pesan', 'cepat']</td>\n",
       "      <td>barang sesuai pesan cepat</td>\n",
       "      <td>2</td>\n",
       "    </tr>\n",
       "    <tr>\n",
       "      <th>1</th>\n",
       "      <td>barang bagus harga murah</td>\n",
       "      <td>5</td>\n",
       "      <td>pertukangan</td>\n",
       "      <td>STAPLE GUN ATS 3 WAY TACKER - STAPLES JOK TEMB...</td>\n",
       "      <td>['barang', 'bagus', 'harga', 'murah']</td>\n",
       "      <td>['barang', 'bagus', 'harga', 'murah']</td>\n",
       "      <td>['barang', 'bagus', 'harga', 'murah']</td>\n",
       "      <td>['barang', 'bagus', 'harga', 'murah']</td>\n",
       "      <td>barang bagus harga murah</td>\n",
       "      <td>2</td>\n",
       "    </tr>\n",
       "    <tr>\n",
       "      <th>2</th>\n",
       "      <td>paket rapimantapcepatsampe ke tujuan</td>\n",
       "      <td>5</td>\n",
       "      <td>pertukangan</td>\n",
       "      <td>STAPLE GUN ATS 3 WAY TACKER - STAPLES JOK TEMB...</td>\n",
       "      <td>['paket', 'rapimantapcepatsampe', 'ke', 'tujuan']</td>\n",
       "      <td>['paket', 'rapi', 'ke', 'tujuan']</td>\n",
       "      <td>['paket', 'rapi', 'tujuan']</td>\n",
       "      <td>['paket', 'rapi', 'tuju']</td>\n",
       "      <td>paket rapi tuju</td>\n",
       "      <td>2</td>\n",
       "    </tr>\n",
       "    <tr>\n",
       "      <th>3</th>\n",
       "      <td>ya saya puas dgn barangnya</td>\n",
       "      <td>5</td>\n",
       "      <td>pertukangan</td>\n",
       "      <td>ALAT STAPLES TEMBAK &amp;#40;AIR NAILER GUN&amp;#41; O...</td>\n",
       "      <td>['ya', 'saya', 'puas', 'dgn', 'barangnya']</td>\n",
       "      <td>['ya', 'saya', 'puas', 'dengan', 'barangnya']</td>\n",
       "      <td>['ya', 'puas', 'barangnya']</td>\n",
       "      <td>['ya', 'puas', 'barang']</td>\n",
       "      <td>ya puas barang</td>\n",
       "      <td>2</td>\n",
       "    </tr>\n",
       "    <tr>\n",
       "      <th>4</th>\n",
       "      <td>responya luar biasa mantap</td>\n",
       "      <td>5</td>\n",
       "      <td>pertukangan</td>\n",
       "      <td>Isi Refill Staples Jok Kulit Motor / Staple Gu...</td>\n",
       "      <td>['responya', 'luar', 'biasa', 'mantap']</td>\n",
       "      <td>['respon', 'luar', 'biasa', 'mantap']</td>\n",
       "      <td>['respon', 'mantap']</td>\n",
       "      <td>['respon', 'mantap']</td>\n",
       "      <td>respon mantap</td>\n",
       "      <td>2</td>\n",
       "    </tr>\n",
       "    <tr>\n",
       "      <th>...</th>\n",
       "      <td>...</td>\n",
       "      <td>...</td>\n",
       "      <td>...</td>\n",
       "      <td>...</td>\n",
       "      <td>...</td>\n",
       "      <td>...</td>\n",
       "      <td>...</td>\n",
       "      <td>...</td>\n",
       "      <td>...</td>\n",
       "      <td>...</td>\n",
       "    </tr>\n",
       "    <tr>\n",
       "      <th>1821</th>\n",
       "      <td>barang bagus sesuai deskripsi thanks</td>\n",
       "      <td>5</td>\n",
       "      <td>pertukangan</td>\n",
       "      <td>Gun Tacker, Staples Tembak Manual 4-8mm TOHO</td>\n",
       "      <td>['barang', 'bagus', 'sesuai', 'deskripsi', 'th...</td>\n",
       "      <td>['barang', 'bagus', 'sesuai', 'deskripsi', 'te...</td>\n",
       "      <td>['barang', 'bagus', 'sesuai', 'deskripsi', 'te...</td>\n",
       "      <td>['barang', 'bagus', 'sesuai', 'deskripsi', 'te...</td>\n",
       "      <td>barang bagus sesuai deskripsi terima kasih</td>\n",
       "      <td>2</td>\n",
       "    </tr>\n",
       "    <tr>\n",
       "      <th>1822</th>\n",
       "      <td>produk bagus sudah dicoba untuk kayu yg lunak ...</td>\n",
       "      <td>4</td>\n",
       "      <td>pertukangan</td>\n",
       "      <td>Isi Staples Gun 10mm &amp;#40;3/8&amp;#34;&amp;#41; LICOTA</td>\n",
       "      <td>['produk', 'bagus', 'sudah', 'dicoba', 'untuk'...</td>\n",
       "      <td>['produk', 'bagus', 'sudah', 'dicoba', 'untuk'...</td>\n",
       "      <td>['produk', 'bagus', 'dicoba', 'kayu', 'lunak',...</td>\n",
       "      <td>['produk', 'bagus', 'coba', 'kayu', 'lunak', '...</td>\n",
       "      <td>produk bagus coba kayu lunak kayu keras seller...</td>\n",
       "      <td>2</td>\n",
       "    </tr>\n",
       "    <tr>\n",
       "      <th>1823</th>\n",
       "      <td>packing bagus produk sesuai dan bisa dipake di...</td>\n",
       "      <td>5</td>\n",
       "      <td>pertukangan</td>\n",
       "      <td>Isi Staples Gun 8mm 5/16 Inch SOLID</td>\n",
       "      <td>['packing', 'bagus', 'produk', 'sesuai', 'dan'...</td>\n",
       "      <td>['packing', 'bagus', 'produk', 'sesuai', 'dan'...</td>\n",
       "      <td>['packing', 'bagus', 'produk', 'sesuai', 'dipa...</td>\n",
       "      <td>['packing', 'bagus', 'produk', 'sesuai', 'paka...</td>\n",
       "      <td>packing bagus produk sesuai pakai staples gun ...</td>\n",
       "      <td>2</td>\n",
       "    </tr>\n",
       "    <tr>\n",
       "      <th>1824</th>\n",
       "      <td>mantap bagus kwalitasny</td>\n",
       "      <td>5</td>\n",
       "      <td>pertukangan</td>\n",
       "      <td>Isi Staples Gun 8mm 5/16 Inch SOLID</td>\n",
       "      <td>['mantap', 'bagus', 'kwalitasny']</td>\n",
       "      <td>['mantap', 'bagus', 'kwalitasny']</td>\n",
       "      <td>['mantap', 'bagus', 'kwalitasny']</td>\n",
       "      <td>['mantap', 'bagus', 'kwalitasny']</td>\n",
       "      <td>mantap bagus kwalitasny</td>\n",
       "      <td>2</td>\n",
       "    </tr>\n",
       "    <tr>\n",
       "      <th>1825</th>\n",
       "      <td>sangaaaat puuuuuaaaaasss recomennded store</td>\n",
       "      <td>5</td>\n",
       "      <td>pertukangan</td>\n",
       "      <td>Staples Tembak - Gun Staple KENMASTER 4-14mm -...</td>\n",
       "      <td>['sangaaaat', 'puuuuuaaaaasss', 'recomennded',...</td>\n",
       "      <td>['sangaaaat', 'puuuuuaaaaasss', 'recomennded',...</td>\n",
       "      <td>['sangaaaat', 'puuuuuaaaaasss', 'recomennded',...</td>\n",
       "      <td>['sangaaaat', 'puuuuuaaaaasss', 'recomennded',...</td>\n",
       "      <td>sangaaaat puuuuuaaaaasss recomennded store</td>\n",
       "      <td>2</td>\n",
       "    </tr>\n",
       "  </tbody>\n",
       "</table>\n",
       "<p>1826 rows × 10 columns</p>\n",
       "</div>"
      ],
      "text/plain": [
       "                                                 ulasan  rating     kategori  \\\n",
       "0                barang sesuai pesanan dan cepat sampai       5  pertukangan   \n",
       "1                              barang bagus harga murah       5  pertukangan   \n",
       "2                  paket rapimantapcepatsampe ke tujuan       5  pertukangan   \n",
       "3                            ya saya puas dgn barangnya       5  pertukangan   \n",
       "4                            responya luar biasa mantap       5  pertukangan   \n",
       "...                                                 ...     ...          ...   \n",
       "1821               barang bagus sesuai deskripsi thanks       5  pertukangan   \n",
       "1822  produk bagus sudah dicoba untuk kayu yg lunak ...       4  pertukangan   \n",
       "1823  packing bagus produk sesuai dan bisa dipake di...       5  pertukangan   \n",
       "1824                            mantap bagus kwalitasny       5  pertukangan   \n",
       "1825         sangaaaat puuuuuaaaaasss recomennded store       5  pertukangan   \n",
       "\n",
       "                                            nama_produk  \\\n",
       "0     Staples Dekorasi Staples Kayu + Refill 8mm - S...   \n",
       "1     STAPLE GUN ATS 3 WAY TACKER - STAPLES JOK TEMB...   \n",
       "2     STAPLE GUN ATS 3 WAY TACKER - STAPLES JOK TEMB...   \n",
       "3     ALAT STAPLES TEMBAK &#40;AIR NAILER GUN&#41; O...   \n",
       "4     Isi Refill Staples Jok Kulit Motor / Staple Gu...   \n",
       "...                                                 ...   \n",
       "1821       Gun Tacker, Staples Tembak Manual 4-8mm TOHO   \n",
       "1822     Isi Staples Gun 10mm &#40;3/8&#34;&#41; LICOTA   \n",
       "1823                Isi Staples Gun 8mm 5/16 Inch SOLID   \n",
       "1824                Isi Staples Gun 8mm 5/16 Inch SOLID   \n",
       "1825  Staples Tembak - Gun Staple KENMASTER 4-14mm -...   \n",
       "\n",
       "                                        ulasan_tokenize  \\\n",
       "0     ['barang', 'sesuai', 'pesanan', 'dan', 'cepat'...   \n",
       "1                 ['barang', 'bagus', 'harga', 'murah']   \n",
       "2     ['paket', 'rapimantapcepatsampe', 'ke', 'tujuan']   \n",
       "3            ['ya', 'saya', 'puas', 'dgn', 'barangnya']   \n",
       "4               ['responya', 'luar', 'biasa', 'mantap']   \n",
       "...                                                 ...   \n",
       "1821  ['barang', 'bagus', 'sesuai', 'deskripsi', 'th...   \n",
       "1822  ['produk', 'bagus', 'sudah', 'dicoba', 'untuk'...   \n",
       "1823  ['packing', 'bagus', 'produk', 'sesuai', 'dan'...   \n",
       "1824                  ['mantap', 'bagus', 'kwalitasny']   \n",
       "1825  ['sangaaaat', 'puuuuuaaaaasss', 'recomennded',...   \n",
       "\n",
       "                                      ulasan_normalized  \\\n",
       "0     ['barang', 'sesuai', 'pesanan', 'dan', 'cepat'...   \n",
       "1                 ['barang', 'bagus', 'harga', 'murah']   \n",
       "2                     ['paket', 'rapi', 'ke', 'tujuan']   \n",
       "3         ['ya', 'saya', 'puas', 'dengan', 'barangnya']   \n",
       "4                 ['respon', 'luar', 'biasa', 'mantap']   \n",
       "...                                                 ...   \n",
       "1821  ['barang', 'bagus', 'sesuai', 'deskripsi', 'te...   \n",
       "1822  ['produk', 'bagus', 'sudah', 'dicoba', 'untuk'...   \n",
       "1823  ['packing', 'bagus', 'produk', 'sesuai', 'dan'...   \n",
       "1824                  ['mantap', 'bagus', 'kwalitasny']   \n",
       "1825  ['sangaaaat', 'puuuuuaaaaasss', 'recomennded',...   \n",
       "\n",
       "                                    ulasan_stop_removed  \\\n",
       "0              ['barang', 'sesuai', 'pesanan', 'cepat']   \n",
       "1                 ['barang', 'bagus', 'harga', 'murah']   \n",
       "2                           ['paket', 'rapi', 'tujuan']   \n",
       "3                           ['ya', 'puas', 'barangnya']   \n",
       "4                                  ['respon', 'mantap']   \n",
       "...                                                 ...   \n",
       "1821  ['barang', 'bagus', 'sesuai', 'deskripsi', 'te...   \n",
       "1822  ['produk', 'bagus', 'dicoba', 'kayu', 'lunak',...   \n",
       "1823  ['packing', 'bagus', 'produk', 'sesuai', 'dipa...   \n",
       "1824                  ['mantap', 'bagus', 'kwalitasny']   \n",
       "1825  ['sangaaaat', 'puuuuuaaaaasss', 'recomennded',...   \n",
       "\n",
       "                                         ulasan_Stemmed  \\\n",
       "0                ['barang', 'sesuai', 'pesan', 'cepat']   \n",
       "1                 ['barang', 'bagus', 'harga', 'murah']   \n",
       "2                             ['paket', 'rapi', 'tuju']   \n",
       "3                              ['ya', 'puas', 'barang']   \n",
       "4                                  ['respon', 'mantap']   \n",
       "...                                                 ...   \n",
       "1821  ['barang', 'bagus', 'sesuai', 'deskripsi', 'te...   \n",
       "1822  ['produk', 'bagus', 'coba', 'kayu', 'lunak', '...   \n",
       "1823  ['packing', 'bagus', 'produk', 'sesuai', 'paka...   \n",
       "1824                  ['mantap', 'bagus', 'kwalitasny']   \n",
       "1825  ['sangaaaat', 'puuuuuaaaaasss', 'recomennded',...   \n",
       "\n",
       "                                           ulasan_clean  label  \n",
       "0                             barang sesuai pesan cepat      2  \n",
       "1                              barang bagus harga murah      2  \n",
       "2                                       paket rapi tuju      2  \n",
       "3                                        ya puas barang      2  \n",
       "4                                         respon mantap      2  \n",
       "...                                                 ...    ...  \n",
       "1821         barang bagus sesuai deskripsi terima kasih      2  \n",
       "1822  produk bagus coba kayu lunak kayu keras seller...      2  \n",
       "1823  packing bagus produk sesuai pakai staples gun ...      2  \n",
       "1824                            mantap bagus kwalitasny      2  \n",
       "1825         sangaaaat puuuuuaaaaasss recomennded store      2  \n",
       "\n",
       "[1826 rows x 10 columns]"
      ]
     },
     "execution_count": 2,
     "metadata": {},
     "output_type": "execute_result"
    }
   ],
   "source": [
    "fsclean = pd.read_csv('ptnewcleanlabel.csv')\n",
    "fsclean"
   ]
  },
  {
   "cell_type": "code",
   "execution_count": 3,
   "id": "7be84985",
   "metadata": {},
   "outputs": [
    {
     "data": {
      "text/plain": [
       "14"
      ]
     },
     "execution_count": 3,
     "metadata": {},
     "output_type": "execute_result"
    }
   ],
   "source": [
    "Ulasan = fsclean['ulasan_clean']\n",
    "Ulasan.isnull().sum()"
   ]
  },
  {
   "cell_type": "code",
   "execution_count": 4,
   "id": "b8289fd0",
   "metadata": {},
   "outputs": [],
   "source": [
    "Ulasan = fsclean.fillna('tidak ada komentar')"
   ]
  },
  {
   "cell_type": "markdown",
   "id": "cb05cb92",
   "metadata": {},
   "source": [
    "# split data "
   ]
  },
  {
   "cell_type": "code",
   "execution_count": 5,
   "id": "d653950d",
   "metadata": {},
   "outputs": [],
   "source": [
    "from sklearn.model_selection import train_test_split\n",
    "\n",
    "X_train, X_test, y_train, y_test = train_test_split(fsclean['ulasan_clean'], fsclean['label'], \n",
    "                                                    test_size=0.3, stratify=fsclean['label'], random_state=30)"
   ]
  },
  {
   "cell_type": "code",
   "execution_count": 6,
   "id": "ed8d8b38",
   "metadata": {},
   "outputs": [
    {
     "name": "stdout",
     "output_type": "stream",
     "text": [
      "NaN in X_train: False\n",
      "NaN in X_test: False\n"
     ]
    }
   ],
   "source": [
    "X_train = X_train.dropna()\n",
    "y_train = y_train[X_train.index]  # Make sure to update labels accordingly\n",
    "\n",
    "X_test = X_test.dropna()\n",
    "y_test = y_test[X_test.index] \n",
    "# Check if there are still NaN values\n",
    "print(\"NaN in X_train:\", X_train.isnull().any())\n",
    "print(\"NaN in X_test:\", X_test.isnull().any())"
   ]
  },
  {
   "cell_type": "markdown",
   "id": "cbb07872",
   "metadata": {},
   "source": [
    "# N-GRAM"
   ]
  },
  {
   "cell_type": "code",
   "execution_count": 7,
   "id": "4a3a770a",
   "metadata": {},
   "outputs": [],
   "source": [
    "vectorizer = CountVectorizer(decode_error='replace', encoding='utf-8', ngram_range=(1, 2))\n",
    "X_train = vectorizer.fit_transform(X_train)\n",
    "X_test = vectorizer.transform(X_test)"
   ]
  },
  {
   "cell_type": "code",
   "execution_count": 8,
   "id": "771ab634",
   "metadata": {},
   "outputs": [
    {
     "name": "stdout",
     "output_type": "stream",
     "text": [
      "Shape after n-gram Count Vectorization:\n",
      "X_train_count.shape: (1265, 3898)\n",
      "X_test_count.shape: (547, 3898)\n"
     ]
    }
   ],
   "source": [
    "print(\"Shape after n-gram Count Vectorization:\")\n",
    "print(\"X_train_count.shape:\", X_train.shape)\n",
    "print(\"X_test_count.shape:\", X_test.shape)"
   ]
  },
  {
   "cell_type": "markdown",
   "id": "9ee1ec17",
   "metadata": {},
   "source": [
    "# MelakukanPrediksi"
   ]
  },
  {
   "cell_type": "code",
   "execution_count": 9,
   "id": "ff80ba56",
   "metadata": {},
   "outputs": [
    {
     "name": "stdout",
     "output_type": "stream",
     "text": [
      "Random Forest Classification Report:\n",
      "               precision    recall  f1-score   support\n",
      "\n",
      "           0       0.00      0.00      0.00         7\n",
      "           1       0.00      0.00      0.00        23\n",
      "           2       0.94      1.00      0.97       517\n",
      "\n",
      "    accuracy                           0.94       547\n",
      "   macro avg       0.31      0.33      0.32       547\n",
      "weighted avg       0.89      0.94      0.92       547\n",
      "\n"
     ]
    },
    {
     "name": "stderr",
     "output_type": "stream",
     "text": [
      "c:\\Users\\Vania\\AppData\\Local\\Programs\\Python\\Python311\\Lib\\site-packages\\sklearn\\metrics\\_classification.py:1469: UndefinedMetricWarning: Precision and F-score are ill-defined and being set to 0.0 in labels with no predicted samples. Use `zero_division` parameter to control this behavior.\n",
      "  _warn_prf(average, modifier, msg_start, len(result))\n",
      "c:\\Users\\Vania\\AppData\\Local\\Programs\\Python\\Python311\\Lib\\site-packages\\sklearn\\metrics\\_classification.py:1469: UndefinedMetricWarning: Precision and F-score are ill-defined and being set to 0.0 in labels with no predicted samples. Use `zero_division` parameter to control this behavior.\n",
      "  _warn_prf(average, modifier, msg_start, len(result))\n",
      "c:\\Users\\Vania\\AppData\\Local\\Programs\\Python\\Python311\\Lib\\site-packages\\sklearn\\metrics\\_classification.py:1469: UndefinedMetricWarning: Precision and F-score are ill-defined and being set to 0.0 in labels with no predicted samples. Use `zero_division` parameter to control this behavior.\n",
      "  _warn_prf(average, modifier, msg_start, len(result))\n"
     ]
    }
   ],
   "source": [
    "from sklearn.tree import DecisionTreeClassifier\n",
    "from sklearn.ensemble import RandomForestClassifier\n",
    "from sklearn.naive_bayes import MultinomialNB\n",
    "from sklearn.neighbors import KNeighborsClassifier\n",
    "from sklearn.metrics import classification_report\n",
    "from sklearn.svm import SVC\n",
    "\n",
    "# Klasifikasi menggunakan Random Forest\n",
    "rf_classifier = RandomForestClassifier(random_state=42)\n",
    "rf_classifier.fit(X_train, y_train)\n",
    "rf_predictions = rf_classifier.predict(X_test)\n",
    "\n",
    "# Evaluasi hasil klasifikasi Random Forest\n",
    "print(\"Random Forest Classification Report:\\n\", classification_report(y_test, rf_predictions))"
   ]
  },
  {
   "cell_type": "code",
   "execution_count": 10,
   "id": "fb2d8817",
   "metadata": {},
   "outputs": [
    {
     "name": "stdout",
     "output_type": "stream",
     "text": [
      "SVM Classification Report:\n",
      "              precision    recall  f1-score   support\n",
      "\n",
      "           0       0.00      0.00      0.00         7\n",
      "           1       0.00      0.00      0.00        23\n",
      "           2       0.95      1.00      0.97       517\n",
      "\n",
      "    accuracy                           0.95       547\n",
      "   macro avg       0.32      0.33      0.32       547\n",
      "weighted avg       0.89      0.95      0.92       547\n",
      "\n"
     ]
    },
    {
     "name": "stderr",
     "output_type": "stream",
     "text": [
      "c:\\Users\\Vania\\AppData\\Local\\Programs\\Python\\Python311\\Lib\\site-packages\\sklearn\\metrics\\_classification.py:1469: UndefinedMetricWarning: Precision and F-score are ill-defined and being set to 0.0 in labels with no predicted samples. Use `zero_division` parameter to control this behavior.\n",
      "  _warn_prf(average, modifier, msg_start, len(result))\n",
      "c:\\Users\\Vania\\AppData\\Local\\Programs\\Python\\Python311\\Lib\\site-packages\\sklearn\\metrics\\_classification.py:1469: UndefinedMetricWarning: Precision and F-score are ill-defined and being set to 0.0 in labels with no predicted samples. Use `zero_division` parameter to control this behavior.\n",
      "  _warn_prf(average, modifier, msg_start, len(result))\n",
      "c:\\Users\\Vania\\AppData\\Local\\Programs\\Python\\Python311\\Lib\\site-packages\\sklearn\\metrics\\_classification.py:1469: UndefinedMetricWarning: Precision and F-score are ill-defined and being set to 0.0 in labels with no predicted samples. Use `zero_division` parameter to control this behavior.\n",
      "  _warn_prf(average, modifier, msg_start, len(result))\n"
     ]
    }
   ],
   "source": [
    "# SVM\n",
    "svm_classifier = SVC()\n",
    "svm_classifier.fit(X_train, y_train)\n",
    "y_pred_svm = svm_classifier.predict(X_test)\n",
    "print(\"SVM Classification Report:\")\n",
    "print(classification_report(y_test, y_pred_svm))"
   ]
  },
  {
   "cell_type": "code",
   "execution_count": 11,
   "id": "970ffd7b",
   "metadata": {},
   "outputs": [
    {
     "name": "stdout",
     "output_type": "stream",
     "text": [
      "Decision Tree Classification Report:\n",
      "              precision    recall  f1-score   support\n",
      "\n",
      "           0       0.00      0.00      0.00         7\n",
      "           1       0.09      0.04      0.06        23\n",
      "           2       0.95      0.97      0.96       517\n",
      "\n",
      "    accuracy                           0.92       547\n",
      "   macro avg       0.35      0.34      0.34       547\n",
      "weighted avg       0.90      0.92      0.91       547\n",
      "\n"
     ]
    }
   ],
   "source": [
    "# Decision Tree\n",
    "dt_classifier = DecisionTreeClassifier()\n",
    "dt_classifier.fit(X_train, y_train)\n",
    "y_pred_dt = dt_classifier.predict(X_test)\n",
    "print(\"Decision Tree Classification Report:\")\n",
    "print(classification_report(y_test, y_pred_dt))\n"
   ]
  },
  {
   "cell_type": "code",
   "execution_count": 12,
   "id": "ff8f4f76",
   "metadata": {},
   "outputs": [
    {
     "name": "stdout",
     "output_type": "stream",
     "text": [
      "Classification Report:\n",
      "               precision    recall  f1-score   support\n",
      "\n",
      "           0       0.00      0.00      0.00         7\n",
      "           1       0.00      0.00      0.00        23\n",
      "           2       0.95      1.00      0.97       517\n",
      "\n",
      "    accuracy                           0.94       547\n",
      "   macro avg       0.32      0.33      0.32       547\n",
      "weighted avg       0.89      0.94      0.92       547\n",
      "\n"
     ]
    },
    {
     "name": "stderr",
     "output_type": "stream",
     "text": [
      "c:\\Users\\Vania\\AppData\\Local\\Programs\\Python\\Python311\\Lib\\site-packages\\sklearn\\metrics\\_classification.py:1469: UndefinedMetricWarning: Precision and F-score are ill-defined and being set to 0.0 in labels with no predicted samples. Use `zero_division` parameter to control this behavior.\n",
      "  _warn_prf(average, modifier, msg_start, len(result))\n",
      "c:\\Users\\Vania\\AppData\\Local\\Programs\\Python\\Python311\\Lib\\site-packages\\sklearn\\metrics\\_classification.py:1469: UndefinedMetricWarning: Precision and F-score are ill-defined and being set to 0.0 in labels with no predicted samples. Use `zero_division` parameter to control this behavior.\n",
      "  _warn_prf(average, modifier, msg_start, len(result))\n",
      "c:\\Users\\Vania\\AppData\\Local\\Programs\\Python\\Python311\\Lib\\site-packages\\sklearn\\metrics\\_classification.py:1469: UndefinedMetricWarning: Precision and F-score are ill-defined and being set to 0.0 in labels with no predicted samples. Use `zero_division` parameter to control this behavior.\n",
      "  _warn_prf(average, modifier, msg_start, len(result))\n"
     ]
    }
   ],
   "source": [
    "# Klasifikasi menggunakan Naive Bayes\n",
    "nb_classifier = MultinomialNB()\n",
    "nb_classifier.fit(X_train, y_train)\n",
    "nb_predictions = nb_classifier.predict(X_test)\n",
    "\n",
    "# Evaluasi hasil klasifikasi Naive Bayes\n",
    "print(\"Classification Report:\\n\", classification_report(y_test, nb_predictions))"
   ]
  },
  {
   "cell_type": "code",
   "execution_count": 13,
   "id": "90859172",
   "metadata": {},
   "outputs": [
    {
     "name": "stdout",
     "output_type": "stream",
     "text": [
      "KNN Classification Report:\n",
      "              precision    recall  f1-score   support\n",
      "\n",
      "           0       0.00      0.00      0.00         7\n",
      "           1       0.00      0.00      0.00        23\n",
      "           2       0.95      1.00      0.97       517\n",
      "\n",
      "    accuracy                           0.95       547\n",
      "   macro avg       0.32      0.33      0.32       547\n",
      "weighted avg       0.89      0.95      0.92       547\n",
      "\n"
     ]
    },
    {
     "name": "stderr",
     "output_type": "stream",
     "text": [
      "c:\\Users\\Vania\\AppData\\Local\\Programs\\Python\\Python311\\Lib\\site-packages\\sklearn\\metrics\\_classification.py:1469: UndefinedMetricWarning: Precision and F-score are ill-defined and being set to 0.0 in labels with no predicted samples. Use `zero_division` parameter to control this behavior.\n",
      "  _warn_prf(average, modifier, msg_start, len(result))\n",
      "c:\\Users\\Vania\\AppData\\Local\\Programs\\Python\\Python311\\Lib\\site-packages\\sklearn\\metrics\\_classification.py:1469: UndefinedMetricWarning: Precision and F-score are ill-defined and being set to 0.0 in labels with no predicted samples. Use `zero_division` parameter to control this behavior.\n",
      "  _warn_prf(average, modifier, msg_start, len(result))\n",
      "c:\\Users\\Vania\\AppData\\Local\\Programs\\Python\\Python311\\Lib\\site-packages\\sklearn\\metrics\\_classification.py:1469: UndefinedMetricWarning: Precision and F-score are ill-defined and being set to 0.0 in labels with no predicted samples. Use `zero_division` parameter to control this behavior.\n",
      "  _warn_prf(average, modifier, msg_start, len(result))\n"
     ]
    }
   ],
   "source": [
    "# KNN\n",
    "knn_classifier = KNeighborsClassifier()\n",
    "knn_classifier.fit(X_train, y_train)\n",
    "y_pred_knn = knn_classifier.predict(X_test)\n",
    "print(\"KNN Classification Report:\")\n",
    "print(classification_report(y_test, y_pred_knn))"
   ]
  }
 ],
 "metadata": {
  "kernelspec": {
   "display_name": "Python 3 (ipykernel)",
   "language": "python",
   "name": "python3"
  },
  "language_info": {
   "codemirror_mode": {
    "name": "ipython",
    "version": 3
   },
   "file_extension": ".py",
   "mimetype": "text/x-python",
   "name": "python",
   "nbconvert_exporter": "python",
   "pygments_lexer": "ipython3",
   "version": "3.11.5"
  }
 },
 "nbformat": 4,
 "nbformat_minor": 5
}
