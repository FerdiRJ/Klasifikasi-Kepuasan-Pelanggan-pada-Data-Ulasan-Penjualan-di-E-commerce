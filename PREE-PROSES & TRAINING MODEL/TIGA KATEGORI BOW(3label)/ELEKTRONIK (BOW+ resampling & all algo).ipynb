{
 "cells": [
  {
   "cell_type": "code",
   "execution_count": 1,
   "id": "fd32bf59",
   "metadata": {},
   "outputs": [],
   "source": [
    "from sklearn.feature_extraction.text import CountVectorizer\n",
    "import pandas as pd\n",
    "import numpy as np"
   ]
  },
  {
   "cell_type": "code",
   "execution_count": 2,
   "id": "a17a5e22",
   "metadata": {
    "scrolled": false
   },
   "outputs": [
    {
     "data": {
      "text/html": [
       "<div>\n",
       "<style scoped>\n",
       "    .dataframe tbody tr th:only-of-type {\n",
       "        vertical-align: middle;\n",
       "    }\n",
       "\n",
       "    .dataframe tbody tr th {\n",
       "        vertical-align: top;\n",
       "    }\n",
       "\n",
       "    .dataframe thead th {\n",
       "        text-align: right;\n",
       "    }\n",
       "</style>\n",
       "<table border=\"1\" class=\"dataframe\">\n",
       "  <thead>\n",
       "    <tr style=\"text-align: right;\">\n",
       "      <th></th>\n",
       "      <th>ulasan</th>\n",
       "      <th>rating</th>\n",
       "      <th>kategori</th>\n",
       "      <th>nama_produk</th>\n",
       "      <th>ulasan_tokenize</th>\n",
       "      <th>ulasan_normalized</th>\n",
       "      <th>ulasan_stop_removed</th>\n",
       "      <th>ulasan_Stemmed</th>\n",
       "      <th>ulasan_clean</th>\n",
       "      <th>label</th>\n",
       "    </tr>\n",
       "  </thead>\n",
       "  <tbody>\n",
       "    <tr>\n",
       "      <th>0</th>\n",
       "      <td>berfungsi dengan baik</td>\n",
       "      <td>5</td>\n",
       "      <td>elektronik</td>\n",
       "      <td>Alfalink EI 212 - Kamus Elektronik</td>\n",
       "      <td>['berfungsi', 'dengan', 'baik']</td>\n",
       "      <td>['berfungsi', 'dengan', 'baik']</td>\n",
       "      <td>['berfungsi']</td>\n",
       "      <td>['fungsi']</td>\n",
       "      <td>fungsi</td>\n",
       "      <td>2</td>\n",
       "    </tr>\n",
       "    <tr>\n",
       "      <th>1</th>\n",
       "      <td>seller fast response pengiriman cepat product ...</td>\n",
       "      <td>5</td>\n",
       "      <td>elektronik</td>\n",
       "      <td>Alfalink EI 212 - Kamus Elektronik</td>\n",
       "      <td>['seller', 'fast', 'response', 'pengiriman', '...</td>\n",
       "      <td>['seller', 'fast', 'response', 'pengiriman', '...</td>\n",
       "      <td>['seller', 'fast', 'response', 'pengiriman', '...</td>\n",
       "      <td>['seller', 'fast', 'response', 'kirim', 'cepat...</td>\n",
       "      <td>seller fast response kirim cepat produk sesuai...</td>\n",
       "      <td>2</td>\n",
       "    </tr>\n",
       "    <tr>\n",
       "      <th>2</th>\n",
       "      <td>berfungsi dengan baik kualitas okey</td>\n",
       "      <td>5</td>\n",
       "      <td>elektronik</td>\n",
       "      <td>Alfalink EI 212 - Kamus Elektronik</td>\n",
       "      <td>['berfungsi', 'dengan', 'baik', 'kualitas', 'o...</td>\n",
       "      <td>['berfungsi', 'dengan', 'baik', 'kualitas', 'o...</td>\n",
       "      <td>['berfungsi', 'kualitas', 'okey']</td>\n",
       "      <td>['fungsi', 'kualitas', 'okey']</td>\n",
       "      <td>fungsi kualitas okey</td>\n",
       "      <td>2</td>\n",
       "    </tr>\n",
       "    <tr>\n",
       "      <th>3</th>\n",
       "      <td>barang diterima dgn aman penjual juga ramah</td>\n",
       "      <td>5</td>\n",
       "      <td>elektronik</td>\n",
       "      <td>Alfalink EI 212 - Kamus Elektronik</td>\n",
       "      <td>['barang', 'diterima', 'dgn', 'aman', 'penjual...</td>\n",
       "      <td>['barang', 'diterima', 'dengan', 'aman', 'penj...</td>\n",
       "      <td>['barang', 'diterima', 'aman', 'penjual', 'ram...</td>\n",
       "      <td>['barang', 'terima', 'aman', 'jual', 'ramah']</td>\n",
       "      <td>barang terima aman jual ramah</td>\n",
       "      <td>2</td>\n",
       "    </tr>\n",
       "    <tr>\n",
       "      <th>4</th>\n",
       "      <td>sesuai gambar respon cepat</td>\n",
       "      <td>5</td>\n",
       "      <td>elektronik</td>\n",
       "      <td>Alfalink EI 212 - Kamus Elektronik</td>\n",
       "      <td>['sesuai', 'gambar', 'respon', 'cepat']</td>\n",
       "      <td>['sesuai', 'gambar', 'respon', 'cepat']</td>\n",
       "      <td>['sesuai', 'gambar', 'respon', 'cepat']</td>\n",
       "      <td>['sesuai', 'gambar', 'respon', 'cepat']</td>\n",
       "      <td>sesuai gambar respon cepat</td>\n",
       "      <td>2</td>\n",
       "    </tr>\n",
       "    <tr>\n",
       "      <th>...</th>\n",
       "      <td>...</td>\n",
       "      <td>...</td>\n",
       "      <td>...</td>\n",
       "      <td>...</td>\n",
       "      <td>...</td>\n",
       "      <td>...</td>\n",
       "      <td>...</td>\n",
       "      <td>...</td>\n",
       "      <td>...</td>\n",
       "      <td>...</td>\n",
       "    </tr>\n",
       "    <tr>\n",
       "      <th>22028</th>\n",
       "      <td>brg sudah sampai thankss</td>\n",
       "      <td>4</td>\n",
       "      <td>elektronik</td>\n",
       "      <td>Battery  |  Blackberry Battery Charger Bundle ...</td>\n",
       "      <td>['brg', 'sudah', 'sampai', 'thankss']</td>\n",
       "      <td>['barang', 'sudah', 'sampai', 'thankss']</td>\n",
       "      <td>['barang', 'thankss']</td>\n",
       "      <td>['barang', 'thankss']</td>\n",
       "      <td>barang thankss</td>\n",
       "      <td>2</td>\n",
       "    </tr>\n",
       "    <tr>\n",
       "      <th>22029</th>\n",
       "      <td>nah kan jadi bisa kasih review respon cepat ka...</td>\n",
       "      <td>5</td>\n",
       "      <td>elektronik</td>\n",
       "      <td>Battery Charger | Blackberry Desktop Battery J...</td>\n",
       "      <td>['nah', 'kan', 'jadi', 'bisa', 'kasih', 'revie...</td>\n",
       "      <td>['nah', 'kan', 'jadi', 'bisa', 'kasih', 'revie...</td>\n",
       "      <td>['kasih', 'review', 'respon', 'cepat', 'salah'...</td>\n",
       "      <td>['kasih', 'review', 'respon', 'cepat', 'salah'...</td>\n",
       "      <td>kasih review respon cepat salah toko webnya ya...</td>\n",
       "      <td>2</td>\n",
       "    </tr>\n",
       "    <tr>\n",
       "      <th>22030</th>\n",
       "      <td>mantab gan langsung ane pakemaknyus</td>\n",
       "      <td>5</td>\n",
       "      <td>elektronik</td>\n",
       "      <td>Battery Charger | Blackberry Desktop Battery J...</td>\n",
       "      <td>['mantab', 'gan', 'langsung', 'ane', 'pakemakn...</td>\n",
       "      <td>['mantap', 'juragan', 'segera', 'saya', 'pakem...</td>\n",
       "      <td>['mantap', 'juragan', 'pakemaknyus']</td>\n",
       "      <td>['mantap', 'juragan', 'pakemaknyus']</td>\n",
       "      <td>mantap juragan pakemaknyus</td>\n",
       "      <td>2</td>\n",
       "    </tr>\n",
       "    <tr>\n",
       "      <th>22031</th>\n",
       "      <td>tq gan tq gan tq gan tq gan tq gan tq gan tq g...</td>\n",
       "      <td>5</td>\n",
       "      <td>elektronik</td>\n",
       "      <td>BLACKBERRY EBC or Desktop Battery ASY-34812-00...</td>\n",
       "      <td>['tq', 'gan', 'tq', 'gan', 'tq', 'gan', 'tq', ...</td>\n",
       "      <td>['terima kasih', 'juragan', 'terima kasih', 'j...</td>\n",
       "      <td>['terima kasih', 'juragan', 'terima kasih', 'j...</td>\n",
       "      <td>['terima kasih', 'juragan', 'terima kasih', 'j...</td>\n",
       "      <td>terima kasih juragan terima kasih juragan teri...</td>\n",
       "      <td>2</td>\n",
       "    </tr>\n",
       "    <tr>\n",
       "      <th>22032</th>\n",
       "      <td>barang ok</td>\n",
       "      <td>5</td>\n",
       "      <td>elektronik</td>\n",
       "      <td>XIAOMI Charger CYSK10 2A with USB TYPE-C Original</td>\n",
       "      <td>['barang', 'ok']</td>\n",
       "      <td>['barang', 'oke']</td>\n",
       "      <td>['barang', 'oke']</td>\n",
       "      <td>['barang', 'oke']</td>\n",
       "      <td>barang oke</td>\n",
       "      <td>2</td>\n",
       "    </tr>\n",
       "  </tbody>\n",
       "</table>\n",
       "<p>22033 rows × 10 columns</p>\n",
       "</div>"
      ],
      "text/plain": [
       "                                                  ulasan  rating    kategori  \\\n",
       "0                                  berfungsi dengan baik       5  elektronik   \n",
       "1      seller fast response pengiriman cepat product ...       5  elektronik   \n",
       "2                    berfungsi dengan baik kualitas okey       5  elektronik   \n",
       "3            barang diterima dgn aman penjual juga ramah       5  elektronik   \n",
       "4                             sesuai gambar respon cepat       5  elektronik   \n",
       "...                                                  ...     ...         ...   \n",
       "22028                           brg sudah sampai thankss       4  elektronik   \n",
       "22029  nah kan jadi bisa kasih review respon cepat ka...       5  elektronik   \n",
       "22030                mantab gan langsung ane pakemaknyus       5  elektronik   \n",
       "22031  tq gan tq gan tq gan tq gan tq gan tq gan tq g...       5  elektronik   \n",
       "22032                                          barang ok       5  elektronik   \n",
       "\n",
       "                                             nama_produk  \\\n",
       "0                     Alfalink EI 212 - Kamus Elektronik   \n",
       "1                     Alfalink EI 212 - Kamus Elektronik   \n",
       "2                     Alfalink EI 212 - Kamus Elektronik   \n",
       "3                     Alfalink EI 212 - Kamus Elektronik   \n",
       "4                     Alfalink EI 212 - Kamus Elektronik   \n",
       "...                                                  ...   \n",
       "22028  Battery  |  Blackberry Battery Charger Bundle ...   \n",
       "22029  Battery Charger | Blackberry Desktop Battery J...   \n",
       "22030  Battery Charger | Blackberry Desktop Battery J...   \n",
       "22031  BLACKBERRY EBC or Desktop Battery ASY-34812-00...   \n",
       "22032  XIAOMI Charger CYSK10 2A with USB TYPE-C Original   \n",
       "\n",
       "                                         ulasan_tokenize  \\\n",
       "0                        ['berfungsi', 'dengan', 'baik']   \n",
       "1      ['seller', 'fast', 'response', 'pengiriman', '...   \n",
       "2      ['berfungsi', 'dengan', 'baik', 'kualitas', 'o...   \n",
       "3      ['barang', 'diterima', 'dgn', 'aman', 'penjual...   \n",
       "4                ['sesuai', 'gambar', 'respon', 'cepat']   \n",
       "...                                                  ...   \n",
       "22028              ['brg', 'sudah', 'sampai', 'thankss']   \n",
       "22029  ['nah', 'kan', 'jadi', 'bisa', 'kasih', 'revie...   \n",
       "22030  ['mantab', 'gan', 'langsung', 'ane', 'pakemakn...   \n",
       "22031  ['tq', 'gan', 'tq', 'gan', 'tq', 'gan', 'tq', ...   \n",
       "22032                                   ['barang', 'ok']   \n",
       "\n",
       "                                       ulasan_normalized  \\\n",
       "0                        ['berfungsi', 'dengan', 'baik']   \n",
       "1      ['seller', 'fast', 'response', 'pengiriman', '...   \n",
       "2      ['berfungsi', 'dengan', 'baik', 'kualitas', 'o...   \n",
       "3      ['barang', 'diterima', 'dengan', 'aman', 'penj...   \n",
       "4                ['sesuai', 'gambar', 'respon', 'cepat']   \n",
       "...                                                  ...   \n",
       "22028           ['barang', 'sudah', 'sampai', 'thankss']   \n",
       "22029  ['nah', 'kan', 'jadi', 'bisa', 'kasih', 'revie...   \n",
       "22030  ['mantap', 'juragan', 'segera', 'saya', 'pakem...   \n",
       "22031  ['terima kasih', 'juragan', 'terima kasih', 'j...   \n",
       "22032                                  ['barang', 'oke']   \n",
       "\n",
       "                                     ulasan_stop_removed  \\\n",
       "0                                          ['berfungsi']   \n",
       "1      ['seller', 'fast', 'response', 'pengiriman', '...   \n",
       "2                      ['berfungsi', 'kualitas', 'okey']   \n",
       "3      ['barang', 'diterima', 'aman', 'penjual', 'ram...   \n",
       "4                ['sesuai', 'gambar', 'respon', 'cepat']   \n",
       "...                                                  ...   \n",
       "22028                              ['barang', 'thankss']   \n",
       "22029  ['kasih', 'review', 'respon', 'cepat', 'salah'...   \n",
       "22030               ['mantap', 'juragan', 'pakemaknyus']   \n",
       "22031  ['terima kasih', 'juragan', 'terima kasih', 'j...   \n",
       "22032                                  ['barang', 'oke']   \n",
       "\n",
       "                                          ulasan_Stemmed  \\\n",
       "0                                             ['fungsi']   \n",
       "1      ['seller', 'fast', 'response', 'kirim', 'cepat...   \n",
       "2                         ['fungsi', 'kualitas', 'okey']   \n",
       "3          ['barang', 'terima', 'aman', 'jual', 'ramah']   \n",
       "4                ['sesuai', 'gambar', 'respon', 'cepat']   \n",
       "...                                                  ...   \n",
       "22028                              ['barang', 'thankss']   \n",
       "22029  ['kasih', 'review', 'respon', 'cepat', 'salah'...   \n",
       "22030               ['mantap', 'juragan', 'pakemaknyus']   \n",
       "22031  ['terima kasih', 'juragan', 'terima kasih', 'j...   \n",
       "22032                                  ['barang', 'oke']   \n",
       "\n",
       "                                            ulasan_clean  label  \n",
       "0                                                 fungsi      2  \n",
       "1      seller fast response kirim cepat produk sesuai...      2  \n",
       "2                                   fungsi kualitas okey      2  \n",
       "3                          barang terima aman jual ramah      2  \n",
       "4                             sesuai gambar respon cepat      2  \n",
       "...                                                  ...    ...  \n",
       "22028                                     barang thankss      2  \n",
       "22029  kasih review respon cepat salah toko webnya ya...      2  \n",
       "22030                         mantap juragan pakemaknyus      2  \n",
       "22031  terima kasih juragan terima kasih juragan teri...      2  \n",
       "22032                                         barang oke      2  \n",
       "\n",
       "[22033 rows x 10 columns]"
      ]
     },
     "execution_count": 2,
     "metadata": {},
     "output_type": "execute_result"
    }
   ],
   "source": [
    "fsclean = pd.read_csv('elenewcleanlabel.csv')\n",
    "fsclean"
   ]
  },
  {
   "cell_type": "code",
   "execution_count": 3,
   "id": "7be84985",
   "metadata": {},
   "outputs": [
    {
     "data": {
      "text/plain": [
       "119"
      ]
     },
     "execution_count": 3,
     "metadata": {},
     "output_type": "execute_result"
    }
   ],
   "source": [
    "Ulasan = fsclean['ulasan_clean']\n",
    "Ulasan.isnull().sum()"
   ]
  },
  {
   "cell_type": "code",
   "execution_count": 4,
   "id": "b8289fd0",
   "metadata": {},
   "outputs": [],
   "source": [
    "Ulasan = fsclean.fillna('tidak ada komentar')"
   ]
  },
  {
   "cell_type": "markdown",
   "id": "cb05cb92",
   "metadata": {},
   "source": [
    "# split data "
   ]
  },
  {
   "cell_type": "code",
   "execution_count": 5,
   "id": "d653950d",
   "metadata": {},
   "outputs": [],
   "source": [
    "from sklearn.model_selection import train_test_split\n",
    "\n",
    "X_train, X_test, y_train, y_test = train_test_split(fsclean['ulasan_clean'], fsclean['label'], \n",
    "                                                    test_size=0.3, stratify=fsclean['label'], random_state=30)"
   ]
  },
  {
   "cell_type": "code",
   "execution_count": 6,
   "id": "ed8d8b38",
   "metadata": {},
   "outputs": [
    {
     "name": "stdout",
     "output_type": "stream",
     "text": [
      "NaN in X_train: False\n",
      "NaN in X_test: False\n"
     ]
    }
   ],
   "source": [
    "X_train = X_train.dropna()\n",
    "y_train = y_train[X_train.index]  # Make sure to update labels accordingly\n",
    "\n",
    "X_test = X_test.dropna()\n",
    "y_test = y_test[X_test.index] \n",
    "# Check if there are still NaN values\n",
    "print(\"NaN in X_train:\", X_train.isnull().any())\n",
    "print(\"NaN in X_test:\", X_test.isnull().any())"
   ]
  },
  {
   "cell_type": "markdown",
   "id": "cbb07872",
   "metadata": {},
   "source": [
    "# BOW"
   ]
  },
  {
   "cell_type": "code",
   "execution_count": 7,
   "id": "4a3a770a",
   "metadata": {},
   "outputs": [],
   "source": [
    "from sklearn.feature_extraction.text import CountVectorizer\n",
    "# Bag of Words (BoW) Vectorization\n",
    "vectorizer = CountVectorizer(decode_error='replace', encoding='utf-8')\n",
    "X_train = vectorizer.fit_transform(X_train)\n",
    "X_test = vectorizer.transform(X_test)"
   ]
  },
  {
   "cell_type": "code",
   "execution_count": 8,
   "id": "771ab634",
   "metadata": {},
   "outputs": [
    {
     "name": "stdout",
     "output_type": "stream",
     "text": [
      "Shape after BoW Vectorization:\n",
      "X_train_bow.shape: (15347, 7278)\n",
      "X_test_bow.shape: (6567, 7278)\n"
     ]
    }
   ],
   "source": [
    "print(\"Shape after BoW Vectorization:\")\n",
    "print(\"X_train_bow.shape:\", X_train.shape)\n",
    "print(\"X_test_bow.shape:\", X_test.shape)"
   ]
  },
  {
   "cell_type": "markdown",
   "id": "ec906112",
   "metadata": {},
   "source": [
    "# RESAMPLING"
   ]
  },
  {
   "cell_type": "code",
   "execution_count": 9,
   "id": "c666fd1b",
   "metadata": {},
   "outputs": [
    {
     "data": {
      "text/plain": [
       "label\n",
       "2    14301\n",
       "1     2000\n",
       "0     2000\n",
       "Name: count, dtype: int64"
      ]
     },
     "execution_count": 9,
     "metadata": {},
     "output_type": "execute_result"
    }
   ],
   "source": [
    "from imblearn.over_sampling import SMOTE\n",
    "\n",
    "smote = SMOTE(sampling_strategy={1:2000, 0:2000})\n",
    "X_train_resampled, y_train_resampled = smote.fit_resample(X_train, y_train)\n",
    "y_train_resampled.value_counts()"
   ]
  },
  {
   "cell_type": "code",
   "execution_count": 10,
   "id": "341094eb",
   "metadata": {},
   "outputs": [
    {
     "data": {
      "text/plain": [
       "label\n",
       "0    2000\n",
       "1    2000\n",
       "2    2000\n",
       "Name: count, dtype: int64"
      ]
     },
     "execution_count": 10,
     "metadata": {},
     "output_type": "execute_result"
    }
   ],
   "source": [
    "from imblearn.under_sampling import RandomUnderSampler\n",
    "\n",
    "# Menggunakan Random Under-sampling hanya pada kelas tertentu\n",
    "under_sampler = RandomUnderSampler(sampling_strategy={2: 2000})\n",
    "X_train_resampled, y_train_resampled = under_sampler.fit_resample(X_train_resampled, y_train_resampled)\n",
    "y_train_resampled.value_counts()"
   ]
  },
  {
   "cell_type": "code",
   "execution_count": 11,
   "id": "1ce257f1",
   "metadata": {},
   "outputs": [
    {
     "data": {
      "image/png": "[encoded data removed]",
      "text/plain": [
       "<Figure size 1500x500 with 2 Axes>"
      ]
     },
     "metadata": {},
     "output_type": "display_data"
    }
   ],
   "source": [
    "import matplotlib.pyplot as plt\n",
    "\n",
    "# Visualisasi distribusi kelas sebelum dan setelah resampling\n",
    "plt.figure(figsize=(15, 5))\n",
    "\n",
    "plt.subplot(1, 2, 1)\n",
    "y_train.value_counts().sort_index().plot(kind='bar')\n",
    "plt.title('Distribusi Kelas Sebelum Resampling')\n",
    "plt.xlabel('Kelas')\n",
    "plt.ylabel('Jumlah')\n",
    "\n",
    "plt.subplot(1, 2, 2)\n",
    "pd.Series(y_train_resampled).value_counts().sort_index().plot(kind='bar')\n",
    "plt.title('Distribusi Kelas Setelah Resampling (SMOTE)')\n",
    "plt.xlabel('Kelas')\n",
    "plt.ylabel('Jumlah')\n",
    "\n",
    "plt.tight_layout()\n",
    "plt.show()"
   ]
  },
  {
   "cell_type": "markdown",
   "id": "9ee1ec17",
   "metadata": {},
   "source": [
    "# MelakukanPrediksi"
   ]
  },
  {
   "cell_type": "code",
   "execution_count": 12,
   "id": "ff80ba56",
   "metadata": {},
   "outputs": [
    {
     "name": "stdout",
     "output_type": "stream",
     "text": [
      "Random Forest Classification Report:\n",
      "               precision    recall  f1-score   support\n",
      "\n",
      "           0       0.11      0.54      0.19       182\n",
      "           1       0.07      0.42      0.12       262\n",
      "           2       0.97      0.66      0.79      6123\n",
      "\n",
      "    accuracy                           0.65      6567\n",
      "   macro avg       0.39      0.54      0.37      6567\n",
      "weighted avg       0.91      0.65      0.75      6567\n",
      "\n"
     ]
    }
   ],
   "source": [
    "from sklearn.tree import DecisionTreeClassifier\n",
    "from sklearn.ensemble import RandomForestClassifier\n",
    "from sklearn.naive_bayes import MultinomialNB\n",
    "from sklearn.neighbors import KNeighborsClassifier\n",
    "from sklearn.metrics import classification_report\n",
    "from sklearn.svm import SVC\n",
    "\n",
    "# Klasifikasi menggunakan Random Forest\n",
    "rf_classifier = RandomForestClassifier(random_state=42)\n",
    "rf_classifier.fit(X_train_resampled, y_train_resampled)\n",
    "rf_predictions = rf_classifier.predict(X_test)\n",
    "\n",
    "# Evaluasi hasil klasifikasi Random Forest\n",
    "print(\"Random Forest Classification Report:\\n\", classification_report(y_test, rf_predictions))"
   ]
  },
  {
   "cell_type": "code",
   "execution_count": 13,
   "id": "fb2d8817",
   "metadata": {},
   "outputs": [
    {
     "name": "stdout",
     "output_type": "stream",
     "text": [
      "SVM Classification Report:\n",
      "              precision    recall  f1-score   support\n",
      "\n",
      "           0       0.11      0.47      0.17       182\n",
      "           1       0.07      0.31      0.12       262\n",
      "           2       0.96      0.73      0.83      6123\n",
      "\n",
      "    accuracy                           0.71      6567\n",
      "   macro avg       0.38      0.51      0.38      6567\n",
      "weighted avg       0.90      0.71      0.78      6567\n",
      "\n"
     ]
    }
   ],
   "source": [
    "# SVM\n",
    "svm_classifier = SVC()\n",
    "svm_classifier.fit(X_train_resampled, y_train_resampled)\n",
    "y_pred_svm = svm_classifier.predict(X_test)\n",
    "print(\"SVM Classification Report:\")\n",
    "print(classification_report(y_test, y_pred_svm))"
   ]
  },
  {
   "cell_type": "code",
   "execution_count": 14,
   "id": "970ffd7b",
   "metadata": {},
   "outputs": [
    {
     "name": "stdout",
     "output_type": "stream",
     "text": [
      "Decision Tree Classification Report:\n",
      "              precision    recall  f1-score   support\n",
      "\n",
      "           0       0.09      0.55      0.16       182\n",
      "           1       0.06      0.43      0.10       262\n",
      "           2       0.97      0.57      0.72      6123\n",
      "\n",
      "    accuracy                           0.57      6567\n",
      "   macro avg       0.38      0.52      0.33      6567\n",
      "weighted avg       0.91      0.57      0.68      6567\n",
      "\n"
     ]
    }
   ],
   "source": [
    "# Decision Tree\n",
    "dt_classifier = DecisionTreeClassifier()\n",
    "dt_classifier.fit(X_train_resampled, y_train_resampled)\n",
    "y_pred_dt = dt_classifier.predict(X_test)\n",
    "print(\"Decision Tree Classification Report:\")\n",
    "print(classification_report(y_test, y_pred_dt))\n"
   ]
  },
  {
   "cell_type": "code",
   "execution_count": 15,
   "id": "ff8f4f76",
   "metadata": {},
   "outputs": [
    {
     "name": "stdout",
     "output_type": "stream",
     "text": [
      "Classification Report:\n",
      "               precision    recall  f1-score   support\n",
      "\n",
      "           0       0.19      0.67      0.30       182\n",
      "           1       0.15      0.34      0.20       262\n",
      "           2       0.98      0.85      0.91      6123\n",
      "\n",
      "    accuracy                           0.82      6567\n",
      "   macro avg       0.44      0.62      0.47      6567\n",
      "weighted avg       0.92      0.82      0.86      6567\n",
      "\n"
     ]
    }
   ],
   "source": [
    "# Klasifikasi menggunakan Naive Bayes\n",
    "nb_classifier = MultinomialNB()\n",
    "nb_classifier.fit(X_train_resampled, y_train_resampled)\n",
    "nb_predictions = nb_classifier.predict(X_test)\n",
    "\n",
    "# Evaluasi hasil klasifikasi Naive Bayes\n",
    "print(\"Classification Report:\\n\", classification_report(y_test, nb_predictions))"
   ]
  },
  {
   "cell_type": "code",
   "execution_count": 16,
   "id": "90859172",
   "metadata": {},
   "outputs": [
    {
     "name": "stdout",
     "output_type": "stream",
     "text": [
      "KNN Classification Report:\n",
      "              precision    recall  f1-score   support\n",
      "\n",
      "           0       0.08      0.70      0.14       182\n",
      "           1       0.05      0.46      0.08       262\n",
      "           2       0.98      0.36      0.52      6123\n",
      "\n",
      "    accuracy                           0.37      6567\n",
      "   macro avg       0.37      0.51      0.25      6567\n",
      "weighted avg       0.92      0.37      0.50      6567\n",
      "\n"
     ]
    }
   ],
   "source": [
    "# KNN\n",
    "knn_classifier = KNeighborsClassifier()\n",
    "knn_classifier.fit(X_train_resampled, y_train_resampled)\n",
    "y_pred_knn = knn_classifier.predict(X_test)\n",
    "print(\"KNN Classification Report:\")\n",
    "print(classification_report(y_test, y_pred_knn))"
   ]
  }
 ],
 "metadata": {
  "kernelspec": {
   "display_name": "Python 3 (ipykernel)",
   "language": "python",
   "name": "python3"
  },
  "language_info": {
   "codemirror_mode": {
    "name": "ipython",
    "version": 3
   },
   "file_extension": ".py",
   "mimetype": "text/x-python",
   "name": "python",
   "nbconvert_exporter": "python",
   "pygments_lexer": "ipython3",
   "version": "3.11.5"
  }
 },
 "nbformat": 4,
 "nbformat_minor": 5
}
